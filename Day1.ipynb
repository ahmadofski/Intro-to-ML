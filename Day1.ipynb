{
 "cells": [
  {
   "cell_type": "code",
   "execution_count": 2,
   "metadata": {
    "collapsed": true
   },
   "outputs": [],
   "source": [
    "import pandas as pd\n",
    "airbnb = pd.read_csv(\"listings.csv\")"
   ]
  },
  {
   "cell_type": "code",
   "execution_count": 5,
   "metadata": {},
   "outputs": [
    {
     "data": {
      "text/html": [
       "<div>\n",
       "<style>\n",
       "    .dataframe thead tr:only-child th {\n",
       "        text-align: right;\n",
       "    }\n",
       "\n",
       "    .dataframe thead th {\n",
       "        text-align: left;\n",
       "    }\n",
       "\n",
       "    .dataframe tbody tr th {\n",
       "        vertical-align: top;\n",
       "    }\n",
       "</style>\n",
       "<table border=\"1\" class=\"dataframe\">\n",
       "  <thead>\n",
       "    <tr style=\"text-align: right;\">\n",
       "      <th></th>\n",
       "      <th>id</th>\n",
       "      <th>scrape_id</th>\n",
       "      <th>thumbnail_url</th>\n",
       "      <th>medium_url</th>\n",
       "      <th>xl_picture_url</th>\n",
       "      <th>host_id</th>\n",
       "      <th>host_acceptance_rate</th>\n",
       "      <th>host_listings_count</th>\n",
       "      <th>host_total_listings_count</th>\n",
       "      <th>latitude</th>\n",
       "      <th>...</th>\n",
       "      <th>review_scores_rating</th>\n",
       "      <th>review_scores_accuracy</th>\n",
       "      <th>review_scores_cleanliness</th>\n",
       "      <th>review_scores_checkin</th>\n",
       "      <th>review_scores_communication</th>\n",
       "      <th>review_scores_location</th>\n",
       "      <th>review_scores_value</th>\n",
       "      <th>jurisdiction_names</th>\n",
       "      <th>calculated_host_listings_count</th>\n",
       "      <th>reviews_per_month</th>\n",
       "    </tr>\n",
       "  </thead>\n",
       "  <tbody>\n",
       "    <tr>\n",
       "      <th>count</th>\n",
       "      <td>2.255200e+04</td>\n",
       "      <td>2.255200e+04</td>\n",
       "      <td>0.0</td>\n",
       "      <td>0.0</td>\n",
       "      <td>0.0</td>\n",
       "      <td>2.255200e+04</td>\n",
       "      <td>0.0</td>\n",
       "      <td>22526.000000</td>\n",
       "      <td>22526.000000</td>\n",
       "      <td>22552.000000</td>\n",
       "      <td>...</td>\n",
       "      <td>18163.000000</td>\n",
       "      <td>18138.000000</td>\n",
       "      <td>18141.000000</td>\n",
       "      <td>18120.000000</td>\n",
       "      <td>18134.000000</td>\n",
       "      <td>18121.000000</td>\n",
       "      <td>18117.000000</td>\n",
       "      <td>0.0</td>\n",
       "      <td>22552.000000</td>\n",
       "      <td>18638.000000</td>\n",
       "    </tr>\n",
       "    <tr>\n",
       "      <th>mean</th>\n",
       "      <td>1.571560e+07</td>\n",
       "      <td>2.018111e+13</td>\n",
       "      <td>NaN</td>\n",
       "      <td>NaN</td>\n",
       "      <td>NaN</td>\n",
       "      <td>5.403355e+07</td>\n",
       "      <td>NaN</td>\n",
       "      <td>2.330685</td>\n",
       "      <td>2.330685</td>\n",
       "      <td>52.509824</td>\n",
       "      <td>...</td>\n",
       "      <td>94.413863</td>\n",
       "      <td>9.663965</td>\n",
       "      <td>9.324955</td>\n",
       "      <td>9.713521</td>\n",
       "      <td>9.730672</td>\n",
       "      <td>9.505491</td>\n",
       "      <td>9.411106</td>\n",
       "      <td>NaN</td>\n",
       "      <td>1.918233</td>\n",
       "      <td>1.135525</td>\n",
       "    </tr>\n",
       "    <tr>\n",
       "      <th>std</th>\n",
       "      <td>8.552069e+06</td>\n",
       "      <td>4.812607e+00</td>\n",
       "      <td>NaN</td>\n",
       "      <td>NaN</td>\n",
       "      <td>NaN</td>\n",
       "      <td>5.816290e+07</td>\n",
       "      <td>NaN</td>\n",
       "      <td>19.947823</td>\n",
       "      <td>19.947823</td>\n",
       "      <td>0.030825</td>\n",
       "      <td>...</td>\n",
       "      <td>7.639644</td>\n",
       "      <td>0.740039</td>\n",
       "      <td>1.031996</td>\n",
       "      <td>0.704620</td>\n",
       "      <td>0.686614</td>\n",
       "      <td>0.762161</td>\n",
       "      <td>0.841492</td>\n",
       "      <td>NaN</td>\n",
       "      <td>3.667257</td>\n",
       "      <td>1.507082</td>\n",
       "    </tr>\n",
       "    <tr>\n",
       "      <th>min</th>\n",
       "      <td>2.015000e+03</td>\n",
       "      <td>2.018111e+13</td>\n",
       "      <td>NaN</td>\n",
       "      <td>NaN</td>\n",
       "      <td>NaN</td>\n",
       "      <td>2.217000e+03</td>\n",
       "      <td>NaN</td>\n",
       "      <td>0.000000</td>\n",
       "      <td>0.000000</td>\n",
       "      <td>52.345803</td>\n",
       "      <td>...</td>\n",
       "      <td>20.000000</td>\n",
       "      <td>2.000000</td>\n",
       "      <td>2.000000</td>\n",
       "      <td>2.000000</td>\n",
       "      <td>2.000000</td>\n",
       "      <td>2.000000</td>\n",
       "      <td>2.000000</td>\n",
       "      <td>NaN</td>\n",
       "      <td>1.000000</td>\n",
       "      <td>0.010000</td>\n",
       "    </tr>\n",
       "    <tr>\n",
       "      <th>25%</th>\n",
       "      <td>8.065954e+06</td>\n",
       "      <td>2.018111e+13</td>\n",
       "      <td>NaN</td>\n",
       "      <td>NaN</td>\n",
       "      <td>NaN</td>\n",
       "      <td>9.240002e+06</td>\n",
       "      <td>NaN</td>\n",
       "      <td>1.000000</td>\n",
       "      <td>1.000000</td>\n",
       "      <td>52.489065</td>\n",
       "      <td>...</td>\n",
       "      <td>92.000000</td>\n",
       "      <td>10.000000</td>\n",
       "      <td>9.000000</td>\n",
       "      <td>10.000000</td>\n",
       "      <td>10.000000</td>\n",
       "      <td>9.000000</td>\n",
       "      <td>9.000000</td>\n",
       "      <td>NaN</td>\n",
       "      <td>1.000000</td>\n",
       "      <td>0.180000</td>\n",
       "    </tr>\n",
       "    <tr>\n",
       "      <th>50%</th>\n",
       "      <td>1.686638e+07</td>\n",
       "      <td>2.018111e+13</td>\n",
       "      <td>NaN</td>\n",
       "      <td>NaN</td>\n",
       "      <td>NaN</td>\n",
       "      <td>3.126711e+07</td>\n",
       "      <td>NaN</td>\n",
       "      <td>1.000000</td>\n",
       "      <td>1.000000</td>\n",
       "      <td>52.509079</td>\n",
       "      <td>...</td>\n",
       "      <td>97.000000</td>\n",
       "      <td>10.000000</td>\n",
       "      <td>10.000000</td>\n",
       "      <td>10.000000</td>\n",
       "      <td>10.000000</td>\n",
       "      <td>10.000000</td>\n",
       "      <td>10.000000</td>\n",
       "      <td>NaN</td>\n",
       "      <td>1.000000</td>\n",
       "      <td>0.540000</td>\n",
       "    </tr>\n",
       "    <tr>\n",
       "      <th>75%</th>\n",
       "      <td>2.258393e+07</td>\n",
       "      <td>2.018111e+13</td>\n",
       "      <td>NaN</td>\n",
       "      <td>NaN</td>\n",
       "      <td>NaN</td>\n",
       "      <td>8.067518e+07</td>\n",
       "      <td>NaN</td>\n",
       "      <td>2.000000</td>\n",
       "      <td>2.000000</td>\n",
       "      <td>52.532669</td>\n",
       "      <td>...</td>\n",
       "      <td>100.000000</td>\n",
       "      <td>10.000000</td>\n",
       "      <td>10.000000</td>\n",
       "      <td>10.000000</td>\n",
       "      <td>10.000000</td>\n",
       "      <td>10.000000</td>\n",
       "      <td>10.000000</td>\n",
       "      <td>NaN</td>\n",
       "      <td>1.000000</td>\n",
       "      <td>1.500000</td>\n",
       "    </tr>\n",
       "    <tr>\n",
       "      <th>max</th>\n",
       "      <td>2.986735e+07</td>\n",
       "      <td>2.018111e+13</td>\n",
       "      <td>NaN</td>\n",
       "      <td>NaN</td>\n",
       "      <td>NaN</td>\n",
       "      <td>2.245081e+08</td>\n",
       "      <td>NaN</td>\n",
       "      <td>1676.000000</td>\n",
       "      <td>1676.000000</td>\n",
       "      <td>52.651670</td>\n",
       "      <td>...</td>\n",
       "      <td>100.000000</td>\n",
       "      <td>10.000000</td>\n",
       "      <td>10.000000</td>\n",
       "      <td>10.000000</td>\n",
       "      <td>10.000000</td>\n",
       "      <td>10.000000</td>\n",
       "      <td>10.000000</td>\n",
       "      <td>NaN</td>\n",
       "      <td>45.000000</td>\n",
       "      <td>36.670000</td>\n",
       "    </tr>\n",
       "  </tbody>\n",
       "</table>\n",
       "<p>8 rows × 34 columns</p>\n",
       "</div>"
      ],
      "text/plain": [
       "                 id     scrape_id  thumbnail_url  medium_url  xl_picture_url  \\\n",
       "count  2.255200e+04  2.255200e+04            0.0         0.0             0.0   \n",
       "mean   1.571560e+07  2.018111e+13            NaN         NaN             NaN   \n",
       "std    8.552069e+06  4.812607e+00            NaN         NaN             NaN   \n",
       "min    2.015000e+03  2.018111e+13            NaN         NaN             NaN   \n",
       "25%    8.065954e+06  2.018111e+13            NaN         NaN             NaN   \n",
       "50%    1.686638e+07  2.018111e+13            NaN         NaN             NaN   \n",
       "75%    2.258393e+07  2.018111e+13            NaN         NaN             NaN   \n",
       "max    2.986735e+07  2.018111e+13            NaN         NaN             NaN   \n",
       "\n",
       "            host_id  host_acceptance_rate  host_listings_count  \\\n",
       "count  2.255200e+04                   0.0         22526.000000   \n",
       "mean   5.403355e+07                   NaN             2.330685   \n",
       "std    5.816290e+07                   NaN            19.947823   \n",
       "min    2.217000e+03                   NaN             0.000000   \n",
       "25%    9.240002e+06                   NaN             1.000000   \n",
       "50%    3.126711e+07                   NaN             1.000000   \n",
       "75%    8.067518e+07                   NaN             2.000000   \n",
       "max    2.245081e+08                   NaN          1676.000000   \n",
       "\n",
       "       host_total_listings_count      latitude        ...          \\\n",
       "count               22526.000000  22552.000000        ...           \n",
       "mean                    2.330685     52.509824        ...           \n",
       "std                    19.947823      0.030825        ...           \n",
       "min                     0.000000     52.345803        ...           \n",
       "25%                     1.000000     52.489065        ...           \n",
       "50%                     1.000000     52.509079        ...           \n",
       "75%                     2.000000     52.532669        ...           \n",
       "max                  1676.000000     52.651670        ...           \n",
       "\n",
       "       review_scores_rating  review_scores_accuracy  \\\n",
       "count          18163.000000            18138.000000   \n",
       "mean              94.413863                9.663965   \n",
       "std                7.639644                0.740039   \n",
       "min               20.000000                2.000000   \n",
       "25%               92.000000               10.000000   \n",
       "50%               97.000000               10.000000   \n",
       "75%              100.000000               10.000000   \n",
       "max              100.000000               10.000000   \n",
       "\n",
       "       review_scores_cleanliness  review_scores_checkin  \\\n",
       "count               18141.000000           18120.000000   \n",
       "mean                    9.324955               9.713521   \n",
       "std                     1.031996               0.704620   \n",
       "min                     2.000000               2.000000   \n",
       "25%                     9.000000              10.000000   \n",
       "50%                    10.000000              10.000000   \n",
       "75%                    10.000000              10.000000   \n",
       "max                    10.000000              10.000000   \n",
       "\n",
       "       review_scores_communication  review_scores_location  \\\n",
       "count                 18134.000000            18121.000000   \n",
       "mean                      9.730672                9.505491   \n",
       "std                       0.686614                0.762161   \n",
       "min                       2.000000                2.000000   \n",
       "25%                      10.000000                9.000000   \n",
       "50%                      10.000000               10.000000   \n",
       "75%                      10.000000               10.000000   \n",
       "max                      10.000000               10.000000   \n",
       "\n",
       "       review_scores_value  jurisdiction_names  \\\n",
       "count         18117.000000                 0.0   \n",
       "mean              9.411106                 NaN   \n",
       "std               0.841492                 NaN   \n",
       "min               2.000000                 NaN   \n",
       "25%               9.000000                 NaN   \n",
       "50%              10.000000                 NaN   \n",
       "75%              10.000000                 NaN   \n",
       "max              10.000000                 NaN   \n",
       "\n",
       "       calculated_host_listings_count  reviews_per_month  \n",
       "count                    22552.000000       18638.000000  \n",
       "mean                         1.918233           1.135525  \n",
       "std                          3.667257           1.507082  \n",
       "min                          1.000000           0.010000  \n",
       "25%                          1.000000           0.180000  \n",
       "50%                          1.000000           0.540000  \n",
       "75%                          1.000000           1.500000  \n",
       "max                         45.000000          36.670000  \n",
       "\n",
       "[8 rows x 34 columns]"
      ]
     },
     "execution_count": 5,
     "metadata": {},
     "output_type": "execute_result"
    }
   ],
   "source": [
    "airbnb.describe()"
   ]
  },
  {
   "cell_type": "code",
   "execution_count": 5,
   "metadata": {
    "collapsed": true
   },
   "outputs": [],
   "source": [
    "import numpy as np\n",
    "import timeit"
   ]
  },
  {
   "cell_type": "code",
   "execution_count": 16,
   "metadata": {},
   "outputs": [
    {
     "data": {
      "text/plain": [
       "333332833333500000"
      ]
     },
     "execution_count": 16,
     "metadata": {},
     "output_type": "execute_result"
    }
   ],
   "source": [
    "np.sum([x**2 for x in range(1,1000000)])"
   ]
  },
  {
   "cell_type": "code",
   "execution_count": 4,
   "metadata": {},
   "outputs": [
    {
     "data": {
      "text/plain": [
       "333332833333500000"
      ]
     },
     "execution_count": 4,
     "metadata": {},
     "output_type": "execute_result"
    }
   ],
   "source": [
    "sum([x**2 for x in range(1,1000000)])"
   ]
  },
  {
   "cell_type": "code",
   "execution_count": 10,
   "metadata": {
    "collapsed": true
   },
   "outputs": [],
   "source": [
    "def mysum(*a): return np.sum(a)"
   ]
  },
  {
   "cell_type": "code",
   "execution_count": 14,
   "metadata": {},
   "outputs": [
    {
     "data": {
      "text/plain": [
       "169.80000000000001"
      ]
     },
     "execution_count": 14,
     "metadata": {},
     "output_type": "execute_result"
    }
   ],
   "source": [
    "mysum()\n",
    "mysum(42)\n",
    "mysum(1,23,134,.8,0xB)"
   ]
  },
  {
   "cell_type": "code",
   "execution_count": 82,
   "metadata": {},
   "outputs": [],
   "source": [
    "def freqchar(s):    \n",
    "    letters = {letter:0 for letter in s}\n",
    "    for letter in s : letters[letter] += 1 \n",
    "    sortlet = sorted(letters.items(),key=lambda kv: kv[1])\n",
    "    return sortlet[:-3:-1]"
   ]
  },
  {
   "cell_type": "code",
   "execution_count": 83,
   "metadata": {},
   "outputs": [
    {
     "data": {
      "text/plain": [
       "[('c', 4), ('a', 4)]"
      ]
     },
     "execution_count": 83,
     "metadata": {},
     "output_type": "execute_result"
    }
   ],
   "source": [
    "freqchar(\"aaaabccccdd\")"
   ]
  },
  {
   "cell_type": "code",
   "execution_count": 77,
   "metadata": {},
   "outputs": [],
   "source": [
    "def frq2(s):\n",
    "    from collections import Counter\n",
    "    c = Counter(s)\n",
    "    return c.most_common(2)"
   ]
  },
  {
   "cell_type": "code",
   "execution_count": 80,
   "metadata": {},
   "outputs": [
    {
     "data": {
      "text/plain": [
       "[('a', 3), ('c', 3)]"
      ]
     },
     "execution_count": 80,
     "metadata": {},
     "output_type": "execute_result"
    }
   ],
   "source": [
    "frq2(\"aaabcccdd\")"
   ]
  },
  {
   "cell_type": "code",
   "execution_count": 108,
   "metadata": {},
   "outputs": [],
   "source": [
    "from functools import lru_cache\n",
    "\n",
    "@lru_cache()\n",
    "def fibo(len):\n",
    "    if len in [1,2]:\n",
    "        return 1\n",
    "    else:\n",
    "        fib = fibo(len-1)+fibo(len-2)\n",
    "        return fib\n",
    "    "
   ]
  },
  {
   "cell_type": "code",
   "execution_count": 109,
   "metadata": {},
   "outputs": [
    {
     "name": "stdout",
     "output_type": "stream",
     "text": [
      "102334155\n"
     ]
    }
   ],
   "source": [
    "print(fibo(40))"
   ]
  },
  {
   "cell_type": "code",
   "execution_count": 3,
   "metadata": {},
   "outputs": [
    {
     "data": {
      "text/plain": [
       "'3.6.7 |Anaconda, Inc.| (default, Oct 28 2018, 19:44:12) [MSC v.1915 64 bit (AMD64)]'"
      ]
     },
     "execution_count": 3,
     "metadata": {},
     "output_type": "execute_result"
    }
   ],
   "source": [
    "import sys\n",
    "sys.version"
   ]
  },
  {
   "cell_type": "code",
   "execution_count": 1,
   "metadata": {
    "collapsed": true
   },
   "outputs": [],
   "source": [
    "def adder(f):\n",
    "    def actualadd(n):\n",
    "        return(f+n)\n",
    "    return actualadd"
   ]
  },
  {
   "cell_type": "code",
   "execution_count": 2,
   "metadata": {},
   "outputs": [
    {
     "data": {
      "text/plain": [
       "105"
      ]
     },
     "execution_count": 2,
     "metadata": {},
     "output_type": "execute_result"
    }
   ],
   "source": [
    "myadder = adder(5)\n",
    "myadder(100)"
   ]
  },
  {
   "cell_type": "code",
   "execution_count": 4,
   "metadata": {
    "collapsed": true
   },
   "outputs": [],
   "source": [
    "import time\n",
    "\n",
    "def isPositive(original_fun):\n",
    "    def logged_function(arg):\n",
    "        if arg > 0:\n",
    "            print(f'they are invoking it with {arg}')\n",
    "            result = original_fun(arg)\n",
    "            print(f'the result it gave was {result}')\n",
    "            return result\n",
    "        else:\n",
    "            print(f'Error: not a positive argument')\n",
    "    return logged_function\n"
   ]
  },
  {
   "cell_type": "code",
   "execution_count": 5,
   "metadata": {},
   "outputs": [
    {
     "name": "stdout",
     "output_type": "stream",
     "text": [
      "they are invoking it with 34\n",
      "the result it gave was 35\n",
      "35\n"
     ]
    }
   ],
   "source": [
    "@isPositive\n",
    "def dosomething(k):\n",
    "    time.sleep(3)\n",
    "    return k + 1\n",
    "\n",
    "print(dosomething(34))"
   ]
  },
  {
   "cell_type": "code",
   "execution_count": 7,
   "metadata": {},
   "outputs": [
    {
     "name": "stdout",
     "output_type": "stream",
     "text": [
      "Error: not a positive argument\n",
      "None\n"
     ]
    }
   ],
   "source": [
    "print(dosomething(-3))"
   ]
  },
  {
   "cell_type": "code",
   "execution_count": null,
   "metadata": {
    "collapsed": true
   },
   "outputs": [],
   "source": []
  }
 ],
 "metadata": {
  "kernelspec": {
   "display_name": "Python [conda env:tensorflow_env]",
   "language": "python",
   "name": "conda-env-tensorflow_env-py"
  },
  "language_info": {
   "codemirror_mode": {
    "name": "ipython",
    "version": 3
   },
   "file_extension": ".py",
   "mimetype": "text/x-python",
   "name": "python",
   "nbconvert_exporter": "python",
   "pygments_lexer": "ipython3",
   "version": "3.6.7"
  }
 },
 "nbformat": 4,
 "nbformat_minor": 2
}
